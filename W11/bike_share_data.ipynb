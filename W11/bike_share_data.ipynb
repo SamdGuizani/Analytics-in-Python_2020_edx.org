{
 "cells": [
  {
   "cell_type": "markdown",
   "metadata": {
    "deletable": false,
    "editable": false,
    "nbgrader": {
     "grade": false,
     "locked": true,
     "solution": false
    }
   },
   "source": [
    "## There are some instructions you need to follow:\n",
    "<li> You only need to write your code in the comment area \"Your Code Here\".</li>\n",
    "<li>Do not upload your own file. Please make the necessary changes in the Jupyter notebook file already present in the server.</li>\n",
    "<li>Please note, there are several cells in the Assignment Jupyter notebook that are empty and read only. Do not attempt to remove them or   edit them. They are used in grading your notebook. Doing so might lead to 0 points.</li>"
   ]
  },
  {
   "cell_type": "code",
   "execution_count": 87,
   "metadata": {
    "collapsed": true
   },
   "outputs": [],
   "source": [
    "import numpy as np\n",
    "import pandas as pd\n",
    "from sklearn import datasets, linear_model\n",
    "\n",
    "\"\"\"\n",
    "Question 1\n",
    "\n",
    "Transform the data.\n",
    "\"\"\"\n",
    "\n",
    "\n",
    "def filter_bike_data(filename = 'bikeshare_data.csv'):\n",
    "    data = pd.read_csv(filename,header=0)\n",
    "\n",
    "        \n",
    "    ###\n",
    "    ### YOUR CODE HERE\n",
    "    ###\n",
    "    # 1 - Remove holidays\n",
    "    data = data[(data['holiday'] != 1)]\n",
    "    print('holiday removed: current size', data.shape)\n",
    "\n",
    "    # 2 - Keep workingdays\n",
    "    data = data[(data['workingday'] != 0)]\n",
    "    print('Non-working days removed: current size', data.shape)\n",
    "    \n",
    "    # 3 - Select time between 9 AM and 6 PM\n",
    "    data = data[(data['hr'] >= 9) & (data['hr'] <= 17)]\n",
    "    print('Select time 9 AM to 6 PM: current size', data.shape)\n",
    "    \n",
    "    # 4 - Subset dataset to keep only temp, hum, windspeed, and cnt\n",
    "    data_subset = data[['temp', 'hum', 'windspeed', 'cnt']]\n",
    "    print(data_subset.head())\n",
    "    \n",
    "    data.to_csv('filtered.csv', index=False)\n",
    "\n",
    "    "
   ]
  },
  {
   "cell_type": "code",
   "execution_count": 99,
   "metadata": {},
   "outputs": [],
   "source": [
    "\"\"\"\n",
    "Question 2\n",
    "\n",
    "Build the model and predict.\n",
    "\"\"\"\n",
    "    \n",
    "def build_and_predict():\n",
    "    data = pd.read_csv('filtered.csv')\n",
    "    predict_data = pd.read_csv('topredict.csv')\n",
    "    \n",
    "    ###\n",
    "    ### YOUR CODE HERE\n",
    "    ###\n",
    "    \n",
    "    # 1 - Linear regression using \"filtered.csv\" data\n",
    "    from sklearn import linear_model\n",
    "\n",
    "    x_train = data[['temp', 'hum', 'windspeed']]\n",
    "    print('x_train head: \\n', x_train.head(), '\\n', x_train.shape, '\\n')\n",
    "    \n",
    "    y_train = data['cnt']\n",
    "    print('y_train head: \\n', y_train.head(), '\\n', y_train.shape, '\\n')\n",
    "    \n",
    "    # 2 - Predict the count using \"topredict.csv\" data as X\n",
    "    model = linear_model.LinearRegression()\n",
    "    model.fit(x_train, y_train)\n",
    "\n",
    "    y_predict = model.predict(predict_data)\n",
    "    y_predict = pd.DataFrame(y_predict, columns=['Prd'])\n",
    "    y_predict['final_prediction'] = np.where(y_predict['Prd'] >= 170, 1, 0)\n",
    "    y_predict['index'] = y_predict.index.values\n",
    "    print('y_predict head: \\n', y_predict.head(), '\\n', y_predict.shape, '\\n')\n",
    "    \n",
    "    final_sol = pd.DataFrame(y_predict[['index', 'final_prediction']])\n",
    "    print('final_sol head: \\n', final_sol.head(), '\\n', final_sol.shape, '\\n')\n",
    "    \n",
    "    final_sol.to_csv('predictions.csv', index=False)"
   ]
  },
  {
   "cell_type": "code",
   "execution_count": 90,
   "metadata": {
    "deletable": false,
    "editable": false,
    "nbgrader": {
     "grade": false,
     "locked": true,
     "solution": false
    },
    "scrolled": true
   },
   "outputs": [
    {
     "name": "stdout",
     "output_type": "stream",
     "text": [
      "holiday removed: current size (16879, 17)\n",
      "Non-working days removed: current size (11865, 17)\n",
      "Select time 9 AM to 6 PM: current size (4477, 17)\n",
      "    temp   hum  windspeed  cnt\n",
      "54  0.16  0.43     0.3881   88\n",
      "55  0.18  0.43     0.2537   44\n",
      "56  0.20  0.40     0.3284   51\n",
      "57  0.22  0.35     0.2985   61\n",
      "58  0.24  0.35     0.2836   61\n"
     ]
    }
   ],
   "source": [
    "# Read-only\n",
    "filter_bike_data()"
   ]
  },
  {
   "cell_type": "code",
   "execution_count": 83,
   "metadata": {
    "collapsed": true,
    "deletable": false,
    "editable": false,
    "nbgrader": {
     "grade": true,
     "grade_id": "Transformation",
     "locked": true,
     "points": "50",
     "solution": false
    }
   },
   "outputs": [],
   "source": [
    "###\n",
    "### AUTOGRADER TEST - DO NOT REMOVE\n",
    "###\n"
   ]
  },
  {
   "cell_type": "code",
   "execution_count": 100,
   "metadata": {
    "scrolled": false
   },
   "outputs": [
    {
     "name": "stdout",
     "output_type": "stream",
     "text": [
      "x_train head: \n",
      "    temp   hum  windspeed\n",
      "0  0.16  0.43     0.3881\n",
      "1  0.18  0.43     0.2537\n",
      "2  0.20  0.40     0.3284\n",
      "3  0.22  0.35     0.2985\n",
      "4  0.24  0.35     0.2836 \n",
      " (4477, 3) \n",
      "\n",
      "y_train head: \n",
      " 0    88\n",
      "1    44\n",
      "2    51\n",
      "3    61\n",
      "4    61\n",
      "Name: cnt, dtype: int64 \n",
      " (4477,) \n",
      "\n",
      "y_predict head: \n",
      "           Prd  final_prediction  index\n",
      "0  156.364531                 0      0\n",
      "1  162.011654                 0      1\n",
      "2  156.223129                 0      2\n",
      "3  158.196982                 0      3\n",
      "4  160.170835                 0      4 \n",
      " (500, 3) \n",
      "\n",
      "final_sol head: \n",
      "    index  final_prediction\n",
      "0      0                 0\n",
      "1      1                 0\n",
      "2      2                 0\n",
      "3      3                 0\n",
      "4      4                 0 \n",
      " (500, 2) \n",
      "\n"
     ]
    }
   ],
   "source": [
    "# Read-only\n",
    "build_and_predict()"
   ]
  },
  {
   "cell_type": "code",
   "execution_count": 85,
   "metadata": {
    "collapsed": true,
    "deletable": false,
    "editable": false,
    "nbgrader": {
     "grade": true,
     "grade_id": "Prediction",
     "locked": true,
     "points": "50",
     "solution": false
    },
    "scrolled": true
   },
   "outputs": [],
   "source": [
    "###\n",
    "### AUTOGRADER TEST - DO NOT REMOVE\n",
    "###\n"
   ]
  },
  {
   "cell_type": "code",
   "execution_count": null,
   "metadata": {
    "collapsed": true
   },
   "outputs": [],
   "source": []
  }
 ],
 "metadata": {
  "kernelspec": {
   "display_name": "Python 3 [3.6]",
   "language": "python",
   "name": "python3"
  },
  "language_info": {
   "codemirror_mode": {
    "name": "ipython",
    "version": 3
   },
   "file_extension": ".py",
   "mimetype": "text/x-python",
   "name": "python",
   "nbconvert_exporter": "python",
   "pygments_lexer": "ipython3",
   "version": "3.6.4"
  }
 },
 "nbformat": 4,
 "nbformat_minor": 2
}
