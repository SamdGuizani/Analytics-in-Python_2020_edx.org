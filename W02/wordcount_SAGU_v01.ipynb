{
 "cells": [
  {
   "cell_type": "markdown",
   "metadata": {
    "deletable": false,
    "editable": false,
    "nbgrader": {
     "grade": false,
     "locked": true,
     "solution": false
    }
   },
   "source": [
    "## There are some instructions you need to follow:\n",
    "\n",
    "<li> You only need to write your code in the comment area \"Your Code Here\".\n",
    "<li> Do not upload your own file. Please make the necessary changes in the Jupyter notebook file already present in the server.\n",
    "<li> Please note, there are several cells in the Assignment Jupyter notebook that are empty and read only. Do not attempt to remove them or edit them. They are used in grading your notebook. Doing so might lead to 0 points"
   ]
  },
  {
   "cell_type": "code",
   "execution_count": 4,
   "metadata": {
    "deletable": false,
    "editable": false,
    "nbgrader": {
     "grade": false,
     "locked": true,
     "solution": false
    }
   },
   "outputs": [
    {
     "data": {
      "text/plain": [
       "'\\nModify the following word_distribution function so that\\nit returns a dictionary with the count of each word in \\nthe input string.\\n\\nDon\\'t forget to put the words in lowercase.\\n\\nIf there\\'s a punctuation sign at the end of a word, you should remove it.\\n\\nTests:\\n\\nword_distribution(\"Why are all these people here?\")\\nshould return {\\'why\\': 1, \\'are\\':1, all\\': 1, \\'these\\': 1, \\'people\\':1, \\'here\\':1 }\\n\\n\\nword_distribution(\"Monica is coming to the city tomorrow!\")\\nshould return {\"monica\":1, \"is\":1, \"coming\":1,\"to\":1,\"the\":1,\"city\":1, \"tomorrow\":1}\\n'"
      ]
     },
     "execution_count": 4,
     "metadata": {},
     "output_type": "execute_result"
    }
   ],
   "source": [
    "\"\"\"\n",
    "Modify the following word_distribution function so that\n",
    "it returns a dictionary with the count of each word in \n",
    "the input string.\n",
    "\n",
    "Don't forget to put the words in lowercase.\n",
    "\n",
    "If there's a punctuation sign at the end of a word, you should remove it.\n",
    "You should remove only one punctuation sign if there are multiple signs.\n",
    "\n",
    "Tests:\n",
    "\n",
    "word_distribution(\"Hello. How are you? Please say hello if you don’t love me!\") \n",
    "should return {‘hello’: 2, ‘how’:1, ‘are’:1, ‘you’:2, ’please’:1, “don’t”: 1, 'say':1, 'if':1, 'love':1,'me':1}\n",
    "\n",
    "word_distribution(\"That's when I saw Jane (John's sister)!\")\n",
    "should return {\"that's\":1, \"when\":1,\"i\":1,\"saw\":1,\"jane\":1, \"(john's\":1, \"sister)\":1}\n",
    "\"\"\""
   ]
  },
  {
   "cell_type": "code",
   "execution_count": 30,
   "metadata": {},
   "outputs": [],
   "source": [
    "def word_distribution(s):\n",
    "    \n",
    "    # Extract a list of lowercase words in string s \n",
    "    l1 = s.lower().split()\n",
    "    \n",
    "    # Test if last character of a word is a punctuation. If True, remove it\n",
    "    l2 = []\n",
    "    for word in l1:\n",
    "        if not word[len(word) - 1].isalpha():\n",
    "            word = word[:-1]\n",
    "        l2.append(word)\n",
    "    \n",
    "    # Count word occurence\n",
    "    d=dict()\n",
    "    for word in l2:\n",
    "        if word not in d:\n",
    "            d[word] = 1\n",
    "        else:\n",
    "            d[word] += 1\n",
    "            \n",
    "    return d\n"
   ]
  },
  {
   "cell_type": "code",
   "execution_count": 31,
   "metadata": {},
   "outputs": [],
   "source": [
    "#testing\n",
    "#word_distribution(\"Monica is coming to the city tomorrow!\")\n",
    "#word_distribution(\"That's when I saw Jane (John's sister)!\")\n",
    "#word_distribution(\"Why are all these people here?\")"
   ]
  },
  {
   "cell_type": "code",
   "execution_count": 32,
   "metadata": {
    "deletable": false,
    "editable": false,
    "nbgrader": {
     "grade": true,
     "grade_id": "Word Distribution",
     "locked": true,
     "points": "10",
     "solution": false
    }
   },
   "outputs": [],
   "source": [
    "###\n",
    "### AUTOGRADER TEST - DO NOT REMOVE\n",
    "###\n"
   ]
  },
  {
   "cell_type": "code",
   "execution_count": 33,
   "metadata": {
    "deletable": false,
    "editable": false,
    "nbgrader": {
     "grade": true,
     "grade_id": "Punctuation",
     "locked": true,
     "points": "10",
     "solution": false
    },
    "scrolled": true
   },
   "outputs": [],
   "source": [
    "###\n",
    "### AUTOGRADER TEST - DO NOT REMOVE\n",
    "###\n"
   ]
  },
  {
   "cell_type": "code",
   "execution_count": null,
   "metadata": {},
   "outputs": [],
   "source": []
  },
  {
   "cell_type": "code",
   "execution_count": null,
   "metadata": {},
   "outputs": [],
   "source": []
  }
 ],
 "metadata": {
  "kernelspec": {
   "display_name": "Python 3 (Spyder)",
   "language": "python3",
   "name": "python3"
  },
  "language_info": {
   "codemirror_mode": {
    "name": "ipython",
    "version": 3
   },
   "file_extension": ".py",
   "mimetype": "text/x-python",
   "name": "python",
   "nbconvert_exporter": "python",
   "pygments_lexer": "ipython3",
   "version": "3.7.6"
  }
 },
 "nbformat": 4,
 "nbformat_minor": 2
}
