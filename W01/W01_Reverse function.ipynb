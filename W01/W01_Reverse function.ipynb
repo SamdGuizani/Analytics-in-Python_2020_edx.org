{
 "cells": [
  {
   "cell_type": "code",
   "execution_count": 16,
   "metadata": {},
   "outputs": [],
   "source": [
    "def reverse(sentence, reverse_word):\n",
    "    '''Locates 1st occurence of string reverse_word in string sentence.\n",
    "    Reverses reverse_word and returns sentence modified (where reverse_word is replaced by reverse_word reversed)\n",
    "    Inputs:\n",
    "    sentence, reverse_word =  2 strings, sentence is supposed to contain at least on occurence of reverse_word'''\n",
    "    \n",
    "    pos = sentence.find(reverse_word)\n",
    "    sentence_mod = sentence[:pos] + reverse_word[::-1] + sentence[pos + len(reverse_word):]\n",
    "    \n",
    "    return sentence_mod"
   ]
  },
  {
   "cell_type": "code",
   "execution_count": 17,
   "metadata": {},
   "outputs": [
    {
     "data": {
      "text/plain": [
       "'Python improves my doom very much'"
      ]
     },
     "execution_count": 17,
     "metadata": {},
     "output_type": "execute_result"
    }
   ],
   "source": [
    "string_1 = \"Python improves my mood very much\"\n",
    "string_2 = \"mood\"\n",
    "\n",
    "reverse(string_1, string_2)"
   ]
  },
  {
   "cell_type": "code",
   "execution_count": null,
   "metadata": {},
   "outputs": [],
   "source": []
  }
 ],
 "metadata": {
  "kernelspec": {
   "display_name": "Python 3 (Spyder)",
   "language": "python3",
   "name": "python3"
  },
  "language_info": {
   "codemirror_mode": {
    "name": "ipython",
    "version": 3
   },
   "file_extension": ".py",
   "mimetype": "text/x-python",
   "name": "python",
   "nbconvert_exporter": "python",
   "pygments_lexer": "ipython3",
   "version": "3.7.6"
  }
 },
 "nbformat": 4,
 "nbformat_minor": 4
}
