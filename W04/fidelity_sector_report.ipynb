{
 "cells": [
  {
   "cell_type": "markdown",
   "metadata": {
    "deletable": false,
    "editable": false,
    "nbgrader": {
     "grade": false,
     "locked": true,
     "solution": false
    }
   },
   "source": [
    "## There are some instructions you need to follow:\n",
    "<li> You only need to write your code in the comment area \"Your Code Here\".</li>\n",
    "<li>Do not upload your own file. Please make the necessary changes in the Jupyter notebook file already present in the server.</li>\n",
    "<li>Please note, there are several cells in the Assignment Jupyter notebook that are empty and read only. Do not attempt to remove them or   edit them. They are used in grading your notebook. Doing so might lead to 0 points.</li>"
   ]
  },
  {
   "cell_type": "code",
   "execution_count": 1,
   "metadata": {},
   "outputs": [
    {
     "data": {
      "text/plain": [
       "\"\\n\\nCheck the following pages to inspect the structure of the site (right click -> inspect):\\n1. https://eresearch.fidelity.com/eresearch/goto/markets_sectors/landing.jhtml \\n2. https://eresearch.fidelity.com/eresearch/markets_sectors/sectors/sectors_in_market.jhtml?tab=learn&sector=50 \\n\\nModify the following fidelity_sector_report so that it returns a json dump\\n(same structure as a dictionary, except for the quotation marks) that contains the \\nfollowing information about each sector:\\n1. The sector name\\n2. The enterprise value (in USD billions)\\n3. The Return on Equity TTM (trailing twelve months, in percentages)\\n4. The dividend yield (in percentages)\\n\\nThe structure of the json dump is given in the assignment description on EdX.\\n\\nYou should expect outputs like following for the first 3 sectors:\\n{'results': {'Communication Services': {'enterprise_value': 286.81,\\n   'return_on_equity': 15.82,\\n   'dividend_yield': 3.91},\\n  'Consumer Discretionary': {'enterprise_value': 279.53,\\n   'return_on_equity': -293.98,\\n   'dividend_yield': 2.32},\\n  'Consumer Staples': {'enterprise_value': 164.55,\\n   'return_on_equity': -5.36,\\n   'dividend_yield': 2.75}}}\\n\\nNote:\\nTo read files, use:\\n\\nwith open('filename') as f:\\n    lines = f.readlines()\\n\""
      ]
     },
     "execution_count": 1,
     "metadata": {},
     "output_type": "execute_result"
    }
   ],
   "source": [
    "\"\"\"\n",
    "\n",
    "Check the following pages to inspect the structure of the site (right click -> inspect):\n",
    "1. https://eresearch.fidelity.com/eresearch/goto/markets_sectors/landing.jhtml \n",
    "2. https://eresearch.fidelity.com/eresearch/markets_sectors/sectors/sectors_in_market.jhtml?tab=learn&sector=50 \n",
    "\n",
    "Modify the following fidelity_sector_report so that it returns a json dump\n",
    "(same structure as a dictionary, except for the quotation marks) that contains the \n",
    "following information about each sector:\n",
    "1. The sector name\n",
    "2. The enterprise value (in USD billions)\n",
    "3. The Return on Equity TTM (trailing twelve months, in percentages)\n",
    "4. The dividend yield (in percentages)\n",
    "\n",
    "The structure of the json dump is given in the assignment description on EdX.\n",
    "\n",
    "You should expect outputs like following for the first 3 sectors:\n",
    "{'results': {'Communication Services': {'enterprise_value': 286.81,\n",
    "   'return_on_equity': 15.82,\n",
    "   'dividend_yield': 3.91},\n",
    "  'Consumer Discretionary': {'enterprise_value': 279.53,\n",
    "   'return_on_equity': -293.98,\n",
    "   'dividend_yield': 2.32},\n",
    "  'Consumer Staples': {'enterprise_value': 164.55,\n",
    "   'return_on_equity': -5.36,\n",
    "   'dividend_yield': 2.75}}}\n",
    "\n",
    "Note:\n",
    "To read files, use:\n",
    "\n",
    "with open('filename') as f:\n",
    "    lines = f.readlines()\n",
    "\"\"\"\n",
    "\n",
    "# do not change anything that is originally written in here\n",
    "# write the solution in suggested area"
   ]
  },
  {
   "cell_type": "code",
   "execution_count": 5,
   "metadata": {},
   "outputs": [
    {
     "data": {
      "text/plain": [
       "<!DOCTYPE HTML>\n",
       "<html>\n",
       "<head>\n",
       "<meta charset=\"utf-8\"/>\n",
       "<title>Sector Performance.htm</title>\n",
       "<meta content=\"width=device-width, initial-scale=1.0\" name=\"viewport\"/>\n",
       "</head>\n",
       "<body>\n",
       "<style type=\"text/css\">\n",
       "    html, body, #container {\n",
       "      height: 100%;\n",
       "    }\n",
       "    body, #container {\n",
       "      overflow: hidden;\n",
       "      margin: 0;\n",
       "    }\n",
       "    #iframe {\n",
       "      width: 100%;\n",
       "      height: 100%;\n",
       "      border: none;\n",
       "    }\n",
       "  </style>\n",
       "<div id=\"container\">\n",
       "<iframe id=\"iframe\" orig_sandbox=\"allow-scripts\" src=\"/hostip/172.31.24.51:6000/user/ddd_v1_w_bmOD_524177_631373_631373_241343_0/files/Sector Performance.htm\"></iframe>\n",
       "</div>\n",
       "</body>\n",
       "</html>"
      ]
     },
     "execution_count": 5,
     "metadata": {},
     "output_type": "execute_result"
    }
   ],
   "source": [
    "# Run this cell and do not change it\n",
    "with open('Sector Performance.htm') as f:\n",
    "    file1 = f.readlines()\n",
    "from bs4 import BeautifulSoup\n",
    "BeautifulSoup(\"\".join(file1), \"lxml\")"
   ]
  },
  {
   "cell_type": "code",
   "execution_count": 6,
   "metadata": {},
   "outputs": [],
   "source": [
    "def fidelity_sector_report(file1):\n",
    "    \n",
    "    ###\n",
    "    ### YOUR CODE HERE\n",
    "    ###\n",
    "       \n",
    "    # Define the list of Sectors (and list of htm files to study)\n",
    "    page = BeautifulSoup(\"\".join(file1), \"lxml\")\n",
    "    sector_list_section = page.find('table', {'class':'sector-list'})\n",
    "    sector_list = sector_list_section.find_all('strong')\n",
    "    htm_files = [item.get_text() + '.htm' for item in sector_list]\n",
    "    \n",
    "    # Scrap required data from each Sector (each htm file)\n",
    "    dict_sector = dict()\n",
    "    \n",
    "    for htm_file in htm_files:\n",
    "        with open (htm_file) as htm_f:\n",
    "            h_file = htm_f.readlines()\n",
    "        page_sector = BeautifulSoup(\"\".join(h_file), \"lxml\")\n",
    "        \n",
    "        # Extract Sector Fundamentals from page_sector in a dictionnary dict_data\n",
    "        sector_fundamentals = page_sector.find('div', {'class': 'sec-fundamentals'})\n",
    "        \n",
    "        dict_data = dict()\n",
    "        dict_data['enterprise_value'] = float(sector_fundamentals.find_all('td')[2].get_text().strip()[1:-1])\n",
    "        dict_data['return_on_equity'] = float(sector_fundamentals.find_all('td')[6].get_text().strip()[:-1])\n",
    "        dict_data['dividend_yield'] = float(sector_fundamentals.find_all('td')[9].get_text().strip()[:-1])\n",
    "        \n",
    "        # Add dict_data in dict_sector with key = 'sector name'\n",
    "        dict_sector[htm_file[:-4]] = dict_data\n",
    "    \n",
    "    # Gather all the data in dict_results with a unique key 'results'\n",
    "    dict_results = {'results': dict_sector}\n",
    "    ref_json = dict_results\n",
    "        \n",
    "    return ref_json"
   ]
  },
  {
   "cell_type": "code",
   "execution_count": 7,
   "metadata": {
    "scrolled": false
   },
   "outputs": [
    {
     "ename": "AttributeError",
     "evalue": "'NoneType' object has no attribute 'find_all'",
     "output_type": "error",
     "traceback": [
      "Traceback \u001b[1;36m(most recent call last)\u001b[0m:\n",
      "  File \u001b[0;32m\"<ipython-input-7-c43b3e17d5b8>\"\u001b[0m, line \u001b[0;32m1\u001b[0m, in \u001b[0;35m<module>\u001b[0m\n    fidelity_sector_report(file1)\n",
      "\u001b[1;36m  File \u001b[1;32m\"<ipython-input-6-a05a7f5a8eac>\"\u001b[1;36m, line \u001b[1;32m10\u001b[1;36m, in \u001b[1;35mfidelity_sector_report\u001b[1;36m\u001b[0m\n\u001b[1;33m    sector_list = sector_list_section.find_all('strong')\u001b[0m\n",
      "\u001b[1;31mAttributeError\u001b[0m\u001b[1;31m:\u001b[0m 'NoneType' object has no attribute 'find_all'\n"
     ]
    }
   ],
   "source": [
    "fidelity_sector_report(file1)"
   ]
  },
  {
   "cell_type": "markdown",
   "metadata": {
    "deletable": false,
    "editable": false,
    "nbgrader": {
     "grade": false,
     "locked": true,
     "solution": false
    }
   },
   "source": [
    "# Please answer the second part below!"
   ]
  },
  {
   "cell_type": "code",
   "execution_count": null,
   "metadata": {},
   "outputs": [],
   "source": [
    "# If you were to invest in the highest ROE (return on equity) sector, that would be:\n",
    "highest_roe_sector = \"Information Technology\" #e.g. \"Utilities\"\n",
    "\n",
    "# If you were to invest in the highest dividend yield sector, that would be:\n",
    "highest_dividend_sector = \"Energy\" #e.g. \"Materials\"\n",
    "\n",
    "# CHANGE THE ABOVE STRINGS, DO NOT PUT SOLUTION BELOW THE FOLLOWING TAG\n",
    "###\n",
    "### YOUR CODE HERE\n",
    "###\n"
   ]
  },
  {
   "cell_type": "code",
   "execution_count": null,
   "metadata": {
    "deletable": false,
    "editable": false,
    "nbgrader": {
     "grade": true,
     "grade_id": "Sector names",
     "locked": true,
     "points": "20",
     "solution": false
    }
   },
   "outputs": [],
   "source": [
    "# Run this cell to get a grade!\n",
    "###\n",
    "### AUTOGRADER TEST - DO NOT REMOVE\n",
    "###\n"
   ]
  },
  {
   "cell_type": "code",
   "execution_count": null,
   "metadata": {
    "deletable": false,
    "editable": false,
    "nbgrader": {
     "grade": true,
     "grade_id": "Enterprise Value",
     "locked": true,
     "points": "20",
     "solution": false
    }
   },
   "outputs": [],
   "source": [
    "# Run this cell to get a grade!\n",
    "###\n",
    "### AUTOGRADER TEST - DO NOT REMOVE\n",
    "###\n"
   ]
  },
  {
   "cell_type": "code",
   "execution_count": null,
   "metadata": {
    "deletable": false,
    "editable": false,
    "nbgrader": {
     "grade": true,
     "grade_id": "Return on Equity",
     "locked": true,
     "points": "20",
     "solution": false
    }
   },
   "outputs": [],
   "source": [
    "# Run this cell to get a grade!\n",
    "###\n",
    "### AUTOGRADER TEST - DO NOT REMOVE\n",
    "###\n"
   ]
  },
  {
   "cell_type": "code",
   "execution_count": null,
   "metadata": {
    "deletable": false,
    "editable": false,
    "nbgrader": {
     "grade": true,
     "grade_id": "Dividend yield",
     "locked": true,
     "points": "20",
     "solution": false
    }
   },
   "outputs": [],
   "source": [
    "# Run this cell to get a grade!\n",
    "###\n",
    "### AUTOGRADER TEST - DO NOT REMOVE\n",
    "###\n"
   ]
  },
  {
   "cell_type": "code",
   "execution_count": null,
   "metadata": {
    "deletable": false,
    "editable": false,
    "nbgrader": {
     "grade": true,
     "grade_id": "Highest ROE",
     "locked": true,
     "points": "10",
     "solution": false
    }
   },
   "outputs": [],
   "source": [
    "# Run this cell to get a grade!\n",
    "###\n",
    "### AUTOGRADER TEST - DO NOT REMOVE\n",
    "###\n"
   ]
  },
  {
   "cell_type": "code",
   "execution_count": null,
   "metadata": {
    "deletable": false,
    "editable": false,
    "nbgrader": {
     "grade": true,
     "grade_id": "Highest dividend",
     "locked": true,
     "points": "10",
     "solution": false
    }
   },
   "outputs": [],
   "source": [
    "# Run this cell to get a grade!\n",
    "###\n",
    "### AUTOGRADER TEST - DO NOT REMOVE\n",
    "###\n"
   ]
  }
 ],
 "metadata": {
  "kernelspec": {
   "display_name": "Python 3 (Spyder)",
   "language": "python3",
   "name": "python3"
  },
  "language_info": {
   "codemirror_mode": {
    "name": "ipython",
    "version": 3
   },
   "file_extension": ".py",
   "mimetype": "text/x-python",
   "name": "python",
   "nbconvert_exporter": "python",
   "pygments_lexer": "ipython3",
   "version": "3.7.6"
  }
 },
 "nbformat": 4,
 "nbformat_minor": 2
}
